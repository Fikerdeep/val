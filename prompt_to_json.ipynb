{
 "cells": [
  {
   "cell_type": "code",
   "execution_count": 1,
   "metadata": {},
   "outputs": [],
   "source": [
    "import re\n",
    "import json\n",
    "\n",
    "def prompt_to_json(prompt_input):\n",
    "    def extract_metrics_params_values(prompt_input):\n",
    "        metric_matches = re.findall(r\"\\*\\*([^*]+?)\\*\\*\", prompt_input)\n",
    "        param_matches = re.findall(r\"\\{\\{([^}]+?)\\}\\}\", prompt_input)\n",
    "        value_pattern = r\"--([^--]+?)--\"\n",
    "        value_matches = re.findall(value_pattern, prompt_input)\n",
    "\n",
    "        metrics = [metric.strip() for metric in metric_matches]\n",
    "        params = [param.strip() for param in param_matches]\n",
    "        values = [val.strip() for val in value_matches]\n",
    "\n",
    "        return metrics, params, values\n",
    "\n",
    "    metrics, params, values = extract_metrics_params_values(prompt_input)\n",
    "\n",
    "    if not metrics and not params:\n",
    "        data = {\n",
    "            \"prompt\": prompt_input,\n",
    "            \"validator\": {\n",
    "                \"metric_name\": \"No validator\",\n",
    "                \"params\": \"\"\n",
    "            }\n",
    "        }\n",
    "    elif not values:\n",
    "        data = {\n",
    "            \"prompt\": prompt_input,\n",
    "            \"validator\": {\n",
    "                \"metric_name\": metrics[0] if metrics else \"\",\n",
    "                \"params\": params\n",
    "            }\n",
    "        }\n",
    "    else:\n",
    "        param_value_pairs = list(zip(params, values))\n",
    "        data = {\n",
    "            \"prompt\": prompt_input,\n",
    "            \"validator\": {\n",
    "                \"metric_name\": metrics[0] if metrics else \"\",\n",
    "                \"params\": param_value_pairs,\n",
    "                \"values\" : values\n",
    "\n",
    "            }\n",
    "        }\n",
    "\n",
    "    return data\n",
    "\n",
    "\n"
   ]
  },
  {
   "cell_type": "code",
   "execution_count": 2,
   "metadata": {},
   "outputs": [
    {
     "name": "stdout",
     "output_type": "stream",
     "text": [
      "{\n",
      "    \"prompt\": \"\\\"**technology.frontend.backend**:\\n        {{Detailed}}: explains the front-end and back-end technologies in detail.\\n        {{Informative}}: explains the front-end or back-end technologies in detail.\\n        {{Average}}: mentions the front-end and back-end technologies.\\n        {{Nonexistent}}: does not mention the front-end and back-end technologies.\",\n",
      "    \"validator\": {\n",
      "        \"metric_name\": \"technology.frontend.backend\",\n",
      "        \"params\": [\n",
      "            \"Detailed\",\n",
      "            \"Informative\",\n",
      "            \"Average\",\n",
      "            \"Nonexistent\"\n",
      "        ]\n",
      "    }\n",
      "}\n"
     ]
    }
   ],
   "source": [
    "try:\n",
    "    input_prompt = \"\"\"\"**technology.frontend.backend**:\n",
    "        {{Detailed}}: explains the front-end and back-end technologies in detail.\n",
    "        {{Informative}}: explains the front-end or back-end technologies in detail.\n",
    "        {{Average}}: mentions the front-end and back-end technologies.\n",
    "        {{Nonexistent}}: does not mention the front-end and back-end technologies.\"\"\"\n",
    "    result_json = prompt_to_json(input_prompt)\n",
    "    print(json.dumps(result_json, indent=4))\n",
    "except ValueError as ve:\n",
    "    print(\"Error:\", str(ve))"
   ]
  }
 ],
 "metadata": {
  "kernelspec": {
   "display_name": "base",
   "language": "python",
   "name": "python3"
  },
  "language_info": {
   "codemirror_mode": {
    "name": "ipython",
    "version": 3
   },
   "file_extension": ".py",
   "mimetype": "text/x-python",
   "name": "python",
   "nbconvert_exporter": "python",
   "pygments_lexer": "ipython3",
   "version": "3.9.13"
  },
  "orig_nbformat": 4
 },
 "nbformat": 4,
 "nbformat_minor": 2
}
